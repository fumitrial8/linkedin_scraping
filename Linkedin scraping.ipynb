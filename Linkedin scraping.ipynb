{
 "cells": [
  {
   "cell_type": "code",
   "execution_count": 143,
   "metadata": {},
   "outputs": [],
   "source": [
    "import os\n",
    "import time\n",
    "\n",
    "import pandas as pd\n",
    "\n",
    "from linkedin_scraper import Person, actions, Company\n",
    "from selenium import webdriver\n",
    "from dotenv import load_dotenv"
   ]
  },
  {
   "cell_type": "code",
   "execution_count": 147,
   "metadata": {},
   "outputs": [],
   "source": [
    "# スクレイピングに使うchromedriverを指定。google chromeのバージョンと合わせないとエラーが出るので、エラーが出たらインストールし直す\n",
    "driver = webdriver.Chrome('./chromedriver')"
   ]
  },
  {
   "cell_type": "code",
   "execution_count": 148,
   "metadata": {},
   "outputs": [],
   "source": [
    "# linkedinのログイン画面に遷移\n",
    "driver.get('https://www.linkedin.com/login/ja?fromSignIn=true&trk=guest_homepage-basic_nav-header-signin')"
   ]
  },
  {
   "cell_type": "code",
   "execution_count": 149,
   "metadata": {},
   "outputs": [],
   "source": [
    "load_dotenv(\"./.env\")\n",
    "\n",
    "USER_NAME = os.environ.get(\"USER_NAME\")\n",
    "PASSWORD = os.environ.get(\"PASSWORD\")"
   ]
  },
  {
   "cell_type": "code",
   "execution_count": 150,
   "metadata": {},
   "outputs": [],
   "source": [
    "# usernameのinput要素を指定\n",
    "username = driver.find_element_by_id('username')\n",
    "\n",
    "\n",
    "# usernameのinput要素にログインid(email)を入力\n",
    "username.send_keys(USER_NAME)\n",
    "\n",
    "# passwordのinput要素を指定\n",
    "password = driver.find_element_by_id('password')\n",
    "\n",
    "# passwordのinput要素にパスワードを入力\n",
    "password.send_keys(PASSWORD)\n",
    "\n",
    "# ログインボタンを指定\n",
    "log_in_button = driver.find_element_by_xpath('//*[@type=\"submit\"]')\n",
    "\n",
    "# ログインボタンをクリック\n",
    "log_in_button.click()"
   ]
  },
  {
   "cell_type": "code",
   "execution_count": 112,
   "metadata": {},
   "outputs": [],
   "source": [
    "companies = [\n",
    "    'mckinsey',\n",
    "    'boston-consulting-group',\n",
    "    'bain-and-company',\n",
    "    'kearney',\n",
    "    'rolandberger',\n",
    "    'arthur-d--little',\n",
    "    'dream-incubator',\n",
    "    'corporate-directions-inc-',\n",
    "    'strategyand',\n",
    "    'monitordeloitte',\n",
    "    'monitor-deloitte-ex-monitor-group',\n",
    "    'accenture',\n",
    "    'goldman-sachs',\n",
    "    'morgan-stanley',\n",
    "    'jpmorgan',\n",
    "    'bank-of-america',\n",
    "    'citi',\n",
    "    'us-bank',\n",
    "    'barclays-bank',\n",
    "    'deutsche-bank',\n",
    "    'credit-suisse',\n",
    "    'bnp-paribas',\n",
    "    'hsbc',\n",
    "    'societe-generale'\n",
    "]"
   ]
  },
  {
   "cell_type": "code",
   "execution_count": 125,
   "metadata": {},
   "outputs": [],
   "source": [
    "# 企業ページのタレントページから日本に住んでいる人だけをリスティング\n",
    "company = companies[2]\n",
    "driver.get('https://www.linkedin.com/company/%s/people?keywords=日本' % company)\n"
   ]
  },
  {
   "cell_type": "code",
   "execution_count": 126,
   "metadata": {},
   "outputs": [],
   "source": [
    "# 画面下にスクロールしたら自動でデータが追加されるので、自動スクロールのJavaScriptを記述し、実行\n",
    "# time.sleep(5)でクローリングしていることを検知されない様にする\n",
    "script = \"window.scrollTo(0, document.body.offsetHeight - 2);\"\n",
    "for i in range(50):\n",
    "    driver.execute_script(script)\n",
    "    time.sleep(5)\n"
   ]
  },
  {
   "cell_type": "code",
   "execution_count": 127,
   "metadata": {},
   "outputs": [],
   "source": [
    "# タレントごとのaタグを抽出\n",
    "a_tags = driver.find_elements_by_class_name(\"link-without-visited-state\")"
   ]
  },
  {
   "cell_type": "code",
   "execution_count": 129,
   "metadata": {},
   "outputs": [],
   "source": [
    "# aタグからリンクを抽出\n",
    "talent_list = [tag.get_attribute(\"href\") for tag in a_tags]"
   ]
  },
  {
   "cell_type": "code",
   "execution_count": 130,
   "metadata": {},
   "outputs": [],
   "source": [
    "# Dataframeに変換\n",
    "df_list = pd.DataFrame({'talent': talent_list})"
   ]
  },
  {
   "cell_type": "code",
   "execution_count": 132,
   "metadata": {},
   "outputs": [],
   "source": [
    "df_list.to_csv('./list/%s.csv' % company)"
   ]
  },
  {
   "cell_type": "code",
   "execution_count": 137,
   "metadata": {},
   "outputs": [],
   "source": [
    "# 企業ごとに処理をまとめて実行\n",
    "script = \"window.scrollTo(0, document.body.offsetHeight - 2);\"\n",
    "for company in companies[3:]:\n",
    "    driver.get('https://www.linkedin.com/company/%s/people?keywords=日本' % company)\n",
    "    for i in range(50):\n",
    "        driver.execute_script(script)\n",
    "        time.sleep(5)\n",
    "    a_tags = driver.find_elements_by_class_name(\"link-without-visited-state\")\n",
    "    talent_list = [tag.get_attribute(\"href\") for tag in a_tags]\n",
    "    df_list = pd.DataFrame({'talent': talent_list})\n",
    "    df_list.to_csv('./list/%s.csv' % company)"
   ]
  },
  {
   "cell_type": "code",
   "execution_count": 139,
   "metadata": {},
   "outputs": [],
   "source": [
    "import zipfile\n",
    "from glob import glob\n",
    "\n",
    "files = glob('./list/*')\n",
    "\n",
    "with zipfile.ZipFile('./talent_list.zip', 'w', compression=zipfile.ZIP_DEFLATED) as new_zip:\n",
    "    for file in files:\n",
    "        new_zip.write(file)"
   ]
  },
  {
   "cell_type": "code",
   "execution_count": null,
   "metadata": {},
   "outputs": [],
   "source": []
  }
 ],
 "metadata": {
  "kernelspec": {
   "display_name": "Python 3",
   "language": "python",
   "name": "python3"
  },
  "language_info": {
   "codemirror_mode": {
    "name": "ipython",
    "version": 3
   },
   "file_extension": ".py",
   "mimetype": "text/x-python",
   "name": "python",
   "nbconvert_exporter": "python",
   "pygments_lexer": "ipython3",
   "version": "3.7.3"
  }
 },
 "nbformat": 4,
 "nbformat_minor": 4
}
